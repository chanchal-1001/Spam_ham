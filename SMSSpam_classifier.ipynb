{
 "cells": [
  {
   "cell_type": "code",
   "execution_count": 1,
   "id": "1d46319d-606f-4dd1-86f9-e0c2f0842f4e",
   "metadata": {},
   "outputs": [
    {
     "name": "stderr",
     "output_type": "stream",
     "text": [
      "C:\\Users\\chanc\\AppData\\Roaming\\Python\\Python39\\site-packages\\pandas\\core\\arrays\\masked.py:60: UserWarning: Pandas requires version '1.3.6' or newer of 'bottleneck' (version '1.3.4' currently installed).\n",
      "  from pandas.core import (\n"
     ]
    },
    {
     "name": "stdout",
     "output_type": "stream",
     "text": [
      "WARNING:tensorflow:From C:\\Users\\chanc\\AppData\\Roaming\\Python\\Python39\\site-packages\\keras\\src\\losses.py:2976: The name tf.losses.sparse_softmax_cross_entropy is deprecated. Please use tf.compat.v1.losses.sparse_softmax_cross_entropy instead.\n",
      "\n"
     ]
    }
   ],
   "source": [
    "import pandas as pd\n",
    "import nltk\n",
    "import tensorflow as tf\n",
    "from nltk.corpus import stopwords"
   ]
  },
  {
   "cell_type": "code",
   "execution_count": 3,
   "id": "83bd807a-6893-4834-b408-db08b67ca8c9",
   "metadata": {},
   "outputs": [],
   "source": [
    "df = pd.read_csv('SMSSpamCollection', sep='\\t', names=['target','sms'])"
   ]
  },
  {
   "cell_type": "code",
   "execution_count": 4,
   "id": "31fcf613-1edf-4196-b3dd-86561ac2cefd",
   "metadata": {},
   "outputs": [],
   "source": [
    "pd.set_option('future.no_silent_downcasting', True)"
   ]
  },
  {
   "cell_type": "code",
   "execution_count": 5,
   "id": "705c4b0f-cd13-48ac-b468-1ad77d05084b",
   "metadata": {},
   "outputs": [],
   "source": [
    "df['target'] = df['target'].replace('ham',0)\n",
    "df['target'] = df['target'].replace('spam',1)"
   ]
  },
  {
   "cell_type": "code",
   "execution_count": 6,
   "id": "4e0a5546-64af-4026-bdb8-fbc3f052efc4",
   "metadata": {},
   "outputs": [
    {
     "data": {
      "text/plain": [
       "0       0\n",
       "1       0\n",
       "2       1\n",
       "3       0\n",
       "4       0\n",
       "       ..\n",
       "5567    1\n",
       "5568    0\n",
       "5569    0\n",
       "5570    0\n",
       "5571    0\n",
       "Name: target, Length: 5572, dtype: object"
      ]
     },
     "execution_count": 6,
     "metadata": {},
     "output_type": "execute_result"
    }
   ],
   "source": [
    "df['target'] "
   ]
  },
  {
   "cell_type": "code",
   "execution_count": 7,
   "id": "0d9e4a0a-beda-4de6-8e28-2bc443aa3d70",
   "metadata": {},
   "outputs": [],
   "source": [
    "Y = df.iloc[:,:-1] #Select all rows and all but the last column for Y\n",
    "X = df.iloc[:,-1:] #Select all rows and all but the first column for X"
   ]
  },
  {
   "cell_type": "code",
   "execution_count": 8,
   "id": "c1f1bf97-de26-4573-891a-fc5ea7bc678f",
   "metadata": {},
   "outputs": [
    {
     "data": {
      "text/plain": [
       "0       0\n",
       "1       0\n",
       "2       1\n",
       "3       0\n",
       "4       0\n",
       "       ..\n",
       "5567    1\n",
       "5568    0\n",
       "5569    0\n",
       "5570    0\n",
       "5571    0\n",
       "Name: target, Length: 5572, dtype: object"
      ]
     },
     "execution_count": 8,
     "metadata": {},
     "output_type": "execute_result"
    }
   ],
   "source": [
    "Y['target']"
   ]
  },
  {
   "cell_type": "code",
   "execution_count": 9,
   "id": "ab8c6ab4-b1da-423f-95cc-139bf6bea6dd",
   "metadata": {},
   "outputs": [],
   "source": [
    "from nltk.stem import PorterStemmer\n",
    "import re"
   ]
  },
  {
   "cell_type": "code",
   "execution_count": 10,
   "id": "e89fa544-62be-49f7-a627-21d6d08a32fc",
   "metadata": {},
   "outputs": [],
   "source": [
    "ps = PorterStemmer()\n",
    "messages = X['sms']\n",
    "corpus = []\n",
    "for data in range(0, len(messages)):\n",
    "    msg = re.sub('[^a-zA-Z]', ' ', messages[data])\n",
    "    #msg = msg.lower()\n",
    "    msg = [ps.stem (word) for word in msg.split() if not word in stopwords.words('english')]\n",
    "    msg = ' '.join(msg)\n",
    "    corpus.append(msg)"
   ]
  },
  {
   "cell_type": "code",
   "execution_count": 12,
   "id": "c89dcb66-15bd-40c9-8e3a-82eaac740710",
   "metadata": {},
   "outputs": [
    {
     "data": {
      "text/plain": [
       "['go jurong point crazi avail bugi n great world la e buffet cine got amor wat',\n",
       " 'ok lar joke wif u oni',\n",
       " 'free entri wkli comp win fa cup final tkt st may text fa receiv entri question std txt rate t c appli',\n",
       " 'u dun say earli hor u c alreadi say',\n",
       " 'nah i think goe usf live around though',\n",
       " 'freemsg hey darl week word back i like fun still tb ok xxx std chg send rcv',\n",
       " 'even brother like speak they treat like aid patent',\n",
       " 'as per request mell mell oru minnaminungint nurungu vettam set callertun caller press copi friend callertun',\n",
       " 'winner as valu network custom select receivea prize reward to claim call claim code kl valid hour',\n",
       " 'had mobil month u r entitl updat latest colour mobil camera free call the mobil updat co free']"
      ]
     },
     "execution_count": 12,
     "metadata": {},
     "output_type": "execute_result"
    }
   ],
   "source": [
    "corpus[:10]"
   ]
  },
  {
   "cell_type": "code",
   "execution_count": 13,
   "id": "a1b59ce6-cf02-4daa-aaaa-f3cce8a8424f",
   "metadata": {},
   "outputs": [],
   "source": [
    "from tensorflow.keras.preprocessing.text import one_hot"
   ]
  },
  {
   "cell_type": "code",
   "execution_count": 14,
   "id": "149c709a-0278-4565-8748-67d2a142a199",
   "metadata": {},
   "outputs": [],
   "source": [
    "vocab_size = 500\n",
    "one_hot_rep = [one_hot(words,  vocab_size) for words in corpus]"
   ]
  },
  {
   "cell_type": "code",
   "execution_count": null,
   "id": "71ad6c17-0a4b-4cef-a3a6-1aeac6625784",
   "metadata": {},
   "outputs": [],
   "source": [
    "one_hot_rep"
   ]
  },
  {
   "cell_type": "code",
   "execution_count": 16,
   "id": "6b855312-2177-4dbb-84fa-26e3689b8bb5",
   "metadata": {},
   "outputs": [],
   "source": [
    "from tensorflow.keras.preprocessing.sequence import pad_sequences"
   ]
  },
  {
   "cell_type": "code",
   "execution_count": 17,
   "id": "33228082-2a8a-4121-966d-68864af96000",
   "metadata": {},
   "outputs": [],
   "source": [
    "sentence_len = 200\n",
    "\n",
    "embedded_data = pad_sequences(one_hot_rep, padding=\"pre\", maxlen = sentence_len)"
   ]
  },
  {
   "cell_type": "code",
   "execution_count": 20,
   "id": "2a3961ea-7aa0-4cec-94d4-3ee544313293",
   "metadata": {},
   "outputs": [
    {
     "data": {
      "text/plain": [
       "array([[  0,   0,   0, ..., 123, 204, 482],\n",
       "       [  0,   0,   0, ..., 386, 160,   1],\n",
       "       [  0,   0,   0, ..., 208, 499, 192],\n",
       "       ...,\n",
       "       [  0,   0,   0, ..., 496, 477, 224],\n",
       "       [  0,   0,   0, ..., 143, 471,  84],\n",
       "       [  0,   0,   0, ..., 120, 107,  37]])"
      ]
     },
     "execution_count": 20,
     "metadata": {},
     "output_type": "execute_result"
    }
   ],
   "source": [
    "embedded_data"
   ]
  },
  {
   "cell_type": "code",
   "execution_count": 21,
   "id": "70030a15-62a7-4e3d-af0c-8d2652b2ab8c",
   "metadata": {},
   "outputs": [],
   "source": [
    "from tensorflow.keras.layers import Embedding, Dense, LSTM\n",
    "from tensorflow.keras.models import Sequential"
   ]
  },
  {
   "cell_type": "code",
   "execution_count": 22,
   "id": "511ea140-4fb8-42b6-acb1-41966d0f1025",
   "metadata": {},
   "outputs": [
    {
     "name": "stdout",
     "output_type": "stream",
     "text": [
      "WARNING:tensorflow:From C:\\Users\\chanc\\AppData\\Roaming\\Python\\Python39\\site-packages\\keras\\src\\backend.py:873: The name tf.get_default_graph is deprecated. Please use tf.compat.v1.get_default_graph instead.\n",
      "\n",
      "WARNING:tensorflow:From C:\\Users\\chanc\\AppData\\Roaming\\Python\\Python39\\site-packages\\keras\\src\\optimizers\\__init__.py:309: The name tf.train.Optimizer is deprecated. Please use tf.compat.v1.train.Optimizer instead.\n",
      "\n",
      "Model: \"sequential\"\n",
      "_________________________________________________________________\n",
      " Layer (type)                Output Shape              Param #   \n",
      "=================================================================\n",
      " embedding (Embedding)       (None, 200, 40)           20000     \n",
      "                                                                 \n",
      " lstm (LSTM)                 (None, 100)               56400     \n",
      "                                                                 \n",
      " dense (Dense)               (None, 1)                 101       \n",
      "                                                                 \n",
      "=================================================================\n",
      "Total params: 76501 (298.83 KB)\n",
      "Trainable params: 76501 (298.83 KB)\n",
      "Non-trainable params: 0 (0.00 Byte)\n",
      "_________________________________________________________________\n",
      "None\n"
     ]
    }
   ],
   "source": [
    "embedding_vector_features = 40\n",
    "model = Sequential()\n",
    "model.add(Embedding(vocab_size, embedding_vector_features, input_length = sentence_len))\n",
    "model.add(LSTM(100))\n",
    "model.add(Dense(1, activation='sigmoid'))\n",
    "model.compile(loss = 'binary_crossentropy', optimizer= 'adam',metrics =['accuracy'] )\n",
    "print(model.summary())"
   ]
  },
  {
   "cell_type": "code",
   "execution_count": 23,
   "id": "a95dff47-93e6-4f47-8b7f-f45221ea7869",
   "metadata": {},
   "outputs": [],
   "source": [
    "import numpy as np"
   ]
  },
  {
   "cell_type": "code",
   "execution_count": 25,
   "id": "76137655-47d6-41f5-8277-e6641161fc00",
   "metadata": {},
   "outputs": [],
   "source": [
    "X_data = np.array(embedded_data)\n",
    "Y_data = np.array(Y['target']).astype(float)"
   ]
  },
  {
   "cell_type": "code",
   "execution_count": 27,
   "id": "e29fa6cf-b3c5-40e9-bb2e-737d7ab6ef2d",
   "metadata": {},
   "outputs": [],
   "source": [
    "from sklearn.model_selection import train_test_split"
   ]
  },
  {
   "cell_type": "code",
   "execution_count": 28,
   "id": "c1c463a2-3fdd-475f-bd4a-270b2e2ba88f",
   "metadata": {},
   "outputs": [],
   "source": [
    "X_train, x_test, Y_train, y_test = train_test_split(X_data, Y_data, test_size=0.2, random_state=42)"
   ]
  },
  {
   "cell_type": "code",
   "execution_count": 29,
   "id": "8ae58e13-245d-4e4e-a0e4-ca1eba1527b8",
   "metadata": {},
   "outputs": [
    {
     "name": "stdout",
     "output_type": "stream",
     "text": [
      "Epoch 1/10\n",
      "WARNING:tensorflow:From C:\\Users\\chanc\\AppData\\Roaming\\Python\\Python39\\site-packages\\keras\\src\\utils\\tf_utils.py:492: The name tf.ragged.RaggedTensorValue is deprecated. Please use tf.compat.v1.ragged.RaggedTensorValue instead.\n",
      "\n",
      "WARNING:tensorflow:From C:\\Users\\chanc\\AppData\\Roaming\\Python\\Python39\\site-packages\\keras\\src\\engine\\base_layer_utils.py:384: The name tf.executing_eagerly_outside_functions is deprecated. Please use tf.compat.v1.executing_eagerly_outside_functions instead.\n",
      "\n",
      "70/70 [==============================] - 28s 347ms/step - loss: 0.3195 - accuracy: 0.8943 - val_loss: 0.1357 - val_accuracy: 0.9605\n",
      "Epoch 2/10\n",
      "70/70 [==============================] - 25s 354ms/step - loss: 0.1000 - accuracy: 0.9693 - val_loss: 0.0673 - val_accuracy: 0.9794\n",
      "Epoch 3/10\n",
      "70/70 [==============================] - 24s 350ms/step - loss: 0.0635 - accuracy: 0.9791 - val_loss: 0.0570 - val_accuracy: 0.9839\n",
      "Epoch 4/10\n",
      "70/70 [==============================] - 24s 346ms/step - loss: 0.0521 - accuracy: 0.9854 - val_loss: 0.0573 - val_accuracy: 0.9830\n",
      "Epoch 5/10\n",
      "70/70 [==============================] - 23s 330ms/step - loss: 0.0435 - accuracy: 0.9879 - val_loss: 0.0545 - val_accuracy: 0.9821\n",
      "Epoch 6/10\n",
      "70/70 [==============================] - 25s 354ms/step - loss: 0.0331 - accuracy: 0.9915 - val_loss: 0.0567 - val_accuracy: 0.9803\n",
      "Epoch 7/10\n",
      "70/70 [==============================] - 24s 339ms/step - loss: 0.0254 - accuracy: 0.9946 - val_loss: 0.0670 - val_accuracy: 0.9776\n",
      "Epoch 8/10\n",
      "70/70 [==============================] - 24s 350ms/step - loss: 0.0208 - accuracy: 0.9962 - val_loss: 0.0744 - val_accuracy: 0.9803\n",
      "Epoch 9/10\n",
      "70/70 [==============================] - 25s 355ms/step - loss: 0.0208 - accuracy: 0.9937 - val_loss: 0.0863 - val_accuracy: 0.9776\n",
      "Epoch 10/10\n",
      "70/70 [==============================] - 24s 349ms/step - loss: 0.0164 - accuracy: 0.9953 - val_loss: 0.0859 - val_accuracy: 0.9740\n"
     ]
    },
    {
     "data": {
      "text/plain": [
       "<keras.src.callbacks.History at 0x18ebac52910>"
      ]
     },
     "execution_count": 29,
     "metadata": {},
     "output_type": "execute_result"
    }
   ],
   "source": [
    "model.fit(X_train, Y_train, validation_data=(x_test,y_test), epochs=10, batch_size = 64)"
   ]
  },
  {
   "cell_type": "code",
   "execution_count": 30,
   "id": "0cb9c63d-9022-4b7a-8bf2-7715e29b090b",
   "metadata": {},
   "outputs": [
    {
     "name": "stdout",
     "output_type": "stream",
     "text": [
      "35/35 [==============================] - 2s 42ms/step\n"
     ]
    }
   ],
   "source": [
    "y_pred = model.predict(x_test)"
   ]
  },
  {
   "cell_type": "code",
   "execution_count": 31,
   "id": "29d61cb2-403d-4225-a48e-09ee6388ec2d",
   "metadata": {},
   "outputs": [
    {
     "data": {
      "text/plain": [
       "array([[0.00164097],\n",
       "       [0.01461411],\n",
       "       [0.00148637],\n",
       "       ...,\n",
       "       [0.00030163],\n",
       "       [0.00030242],\n",
       "       [0.06482828]], dtype=float32)"
      ]
     },
     "execution_count": 31,
     "metadata": {},
     "output_type": "execute_result"
    }
   ],
   "source": [
    "y_pred"
   ]
  },
  {
   "cell_type": "code",
   "execution_count": 32,
   "id": "11966640-2e8b-43f1-b92c-065483c582e6",
   "metadata": {},
   "outputs": [
    {
     "data": {
      "text/plain": [
       "array([[0],\n",
       "       [0],\n",
       "       [0],\n",
       "       ...,\n",
       "       [0],\n",
       "       [0],\n",
       "       [0]])"
      ]
     },
     "execution_count": 32,
     "metadata": {},
     "output_type": "execute_result"
    }
   ],
   "source": [
    "y_pred=np.where(y_pred > 0.5, 1,0)\n",
    "y_pred"
   ]
  },
  {
   "cell_type": "code",
   "execution_count": 33,
   "id": "e2844a7e-c9c3-4770-9ce1-cedbd2eead6d",
   "metadata": {},
   "outputs": [
    {
     "name": "stdout",
     "output_type": "stream",
     "text": [
      "              precision    recall  f1-score   support\n",
      "\n",
      "         0.0       0.99      0.98      0.98       966\n",
      "         1.0       0.89      0.92      0.90       149\n",
      "\n",
      "    accuracy                           0.97      1115\n",
      "   macro avg       0.94      0.95      0.94      1115\n",
      "weighted avg       0.97      0.97      0.97      1115\n",
      "\n"
     ]
    }
   ],
   "source": [
    "from sklearn.metrics import classification_report, accuracy_score, confusion_matrix, roc_curve, auc\n",
    "import matplotlib.pyplot as plt\n",
    "print(classification_report(y_test, y_pred))"
   ]
  },
  {
   "cell_type": "code",
   "execution_count": 34,
   "id": "12dbf7d2-dacb-47d1-aab0-95379a0589ac",
   "metadata": {},
   "outputs": [
    {
     "data": {
      "text/plain": [
       "0.9739910313901345"
      ]
     },
     "execution_count": 34,
     "metadata": {},
     "output_type": "execute_result"
    }
   ],
   "source": [
    "accuracy_score(y_test, y_pred)"
   ]
  },
  {
   "cell_type": "code",
   "execution_count": 35,
   "id": "dfeefa8a-ddd2-40a9-8186-8c9b35f97f2d",
   "metadata": {},
   "outputs": [
    {
     "data": {
      "text/plain": [
       "array([[949,  17],\n",
       "       [ 12, 137]], dtype=int64)"
      ]
     },
     "execution_count": 35,
     "metadata": {},
     "output_type": "execute_result"
    }
   ],
   "source": [
    "confusion_matrix(y_test, y_pred)"
   ]
  },
  {
   "cell_type": "code",
   "execution_count": 36,
   "id": "cb4c63f2-0452-4974-86d1-05038db9c4a0",
   "metadata": {},
   "outputs": [
    {
     "data": {
      "image/png": "[encoded data removed]",
      "text/plain": [
       "<Figure size 432x288 with 1 Axes>"
      ]
     },
     "metadata": {
      "needs_background": "light"
     },
     "output_type": "display_data"
    }
   ],
   "source": [
    "# Calculate ROC curve and AUC\n",
    "fpr, tpr, _ = roc_curve(y_test, y_pred)\n",
    "roc_auc = auc(fpr, tpr)\n",
    "\n",
    "# Plot ROC curve\n",
    "plt.figure()\n",
    "lw = 2\n",
    "plt.plot(fpr, tpr, color='darkorange', lw=lw, label='ROC curve (AUC = %0.2f)' % roc_auc)\n",
    "plt.plot([0, 1], [0, 1], color='navy', lw=lw, linestyle='-')\n",
    "plt.xlim([0.0, 1.0])\n",
    "plt.ylim([0.0, 1.05])\n",
    "plt.xlabel('False Positive Rate')\n",
    "plt.ylabel('True Positive Rate')\n",
    "plt.title('Receiver Operating Characteristic (ROC) Curve')\n",
    "plt.legend(loc=\"lower right\")\n",
    "plt.show()"
   ]
  },
  {
   "cell_type": "code",
   "execution_count": 51,
   "id": "302db223-e177-40e1-9379-82099a4e7081",
   "metadata": {},
   "outputs": [
    {
     "name": "stdout",
     "output_type": "stream",
     "text": [
      "57\n"
     ]
    },
    {
     "name": "stderr",
     "output_type": "stream",
     "text": [
      "C:\\Users\\chanc\\anaconda3\\lib\\site-packages\\IPython\\core\\inputtransformer2.py:603: UserWarning: `make_tokens_by_line` received a list of lines which do not have lineending markers ('\\n', '\\r', '\\r\\n', '\\x0b', '\\x0c'), behavior will be unspecified\n",
      "  tokens_by_line = make_tokens_by_line(lines)\n"
     ]
    }
   ],
   "source": [
    "new_data = \"Our regular day took a scary turn when our daughter woke up with severe fever and her face started swelling. Fearing for our daughter health, we rushed to the hospital. Now, we're here, seeing her struggle for each breath on the ventilator. The doctors say her treatment will cost ₹10 lakhs! ",
    " How will a poor family like ours manage such ",
    "a HUGE amount? With nothing left to sell and no savings, our time is running out to save our dying daughter. Our Aastha deserves a long, happy, and healthy life. Only your support can make this happen.\"\n",
    "msg = re.sub('[^a-zA-Z]', ' ', new_data)\n",
    "msg = [ps.stem (word) for word in msg.split() if not word in stopwords.words('english')]\n",
    "print(len(msg))\n",
    "new_data = ' '.join(msg)\n"
   ]
  },
  {
   "cell_type": "code",
   "execution_count": 52,
   "id": "3b810a4a-4424-448f-a9a5-e0bea6762dd8",
   "metadata": {},
   "outputs": [],
   "source": [
    "one_hot_rep_new_data = one_hot(new_data, vocab_size)"
   ]
  },
  {
   "cell_type": "code",
   "execution_count": 53,
   "id": "92e6d2c5-1893-4219-b722-a1c1edc9d342",
   "metadata": {},
   "outputs": [
    {
     "name": "stdout",
     "output_type": "stream",
     "text": [
      "Duplicate numbers: [71, 463, 303, 316, 473, 412]\n"
     ]
    }
   ],
   "source": [
    "def find_duplicates(arr):\n",
    "    unique_elements = set()\n",
    "    duplicates = set()\n",
    "    for num in arr:\n",
    "        if num in unique_elements:\n",
    "            duplicates.add(num)\n",
    "        else:\n",
    "            unique_elements.add(num)\n",
    "    return list(duplicates)\n",
    "\n",
    "duplicates = find_duplicates(one_hot_rep_new_data)\n",
    "print(\"Duplicate numbers:\", duplicates)"
   ]
  },
  {
   "cell_type": "code",
   "execution_count": 54,
   "id": "43e3aaa7-47db-4000-bb75-fc6fc57b15b0",
   "metadata": {},
   "outputs": [
    {
     "data": {
      "text/plain": [
       "array([[  0,   0,   0,   0,   0,   0,   0,   0,   0,   0,   0,   0,   0,\n",
       "          0,   0,   0,   0,   0,   0,   0,   0,   0,   0,   0,   0,   0,\n",
       "          0,   0,   0,   0,   0,   0,   0,   0,   0,   0,   0,   0,   0,\n",
       "          0,   0,   0,   0,   0,   0,   0,   0,   0,   0,   0,   0,   0,\n",
       "          0,   0,   0,   0,   0,   0,   0,   0,   0,   0,   0,   0,   0,\n",
       "          0,   0,   0,   0,   0,   0,   0,   0,   0,   0,   0,   0,   0,\n",
       "          0,   0,   0,   0,   0,   0,   0,   0,   0,   0,   0,   0,   0,\n",
       "          0,   0,   0,   0,   0,   0,   0,   0,   0,   0,   0,   0,   0,\n",
       "          0,   0,   0,   0,   0,   0,   0,   0,   0,   0,   0,   0,   0,\n",
       "          0,   0,   0,   0,   0,   0,   0,   0,   0,   0,   0,   0,   0,\n",
       "          0,   0,   0,   0,   0,   0,   0,   0,   0,   0,   0,   0,   0,\n",
       "        316,  42, 282, 415, 401,  71,  71, 195, 451,  14, 308, 463, 111,\n",
       "        479,  71,  26, 158,  29, 465, 466, 114, 473, 159,  91,  41, 486,\n",
       "        463, 116, 359, 373,  53, 200, 141, 383, 414, 303, 449,  92, 406,\n",
       "        354, 412, 423, 413, 412, 473,  71, 316, 379, 185, 173,  48, 305,\n",
       "        303,  21, 371,  49,  68]])"
      ]
     },
     "execution_count": 54,
     "metadata": {},
     "output_type": "execute_result"
    }
   ],
   "source": [
    "embedded_new_data = pad_sequences([one_hot_rep_new_data], padding = \"pre\" ,maxlen= sentence_len)\n",
    "embedded_new_data"
   ]
  },
  {
   "cell_type": "code",
   "execution_count": 55,
   "id": "97d4ac8c-31e4-4d5b-81c6-4957a8b7e96a",
   "metadata": {},
   "outputs": [
    {
     "name": "stdout",
     "output_type": "stream",
     "text": [
      "1/1 [==============================] - 0s 72ms/step\n"
     ]
    }
   ],
   "source": [
    "result = model.predict(embedded_new_data)"
   ]
  },
  {
   "cell_type": "code",
   "execution_count": 56,
   "id": "1fcac7a7-f3ee-4757-acac-d0e780e6b2e7",
   "metadata": {},
   "outputs": [
    {
     "data": {
      "text/plain": [
       "'ham'"
      ]
     },
     "execution_count": 56,
     "metadata": {},
     "output_type": "execute_result"
    }
   ],
   "source": [
    "np.where(result[0]>0.5, 'Spam','ham')[0]"
   ]
  },
  {
   "cell_type": "code",
   "execution_count": null,
   "id": "d321c8da-3e26-4bc8-863f-3cc951f52331",
   "metadata": {},
   "outputs": [],
   "source": []
  }
 ],
 "metadata": {
  "kernelspec": {
   "display_name": "Python 3 (ipykernel)",
   "language": "python",
   "name": "python3"
  },
  "language_info": {
   "codemirror_mode": {
    "name": "ipython",
    "version": 3
   },
   "file_extension": ".py",
   "mimetype": "text/x-python",
   "name": "python",
   "nbconvert_exporter": "python",
   "pygments_lexer": "ipython3",
   "version": "3.9.12"
  }
 },
 "nbformat": 4,
 "nbformat_minor": 5
}
